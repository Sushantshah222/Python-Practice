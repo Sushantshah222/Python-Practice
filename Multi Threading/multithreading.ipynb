{
 "cells": [
  {
   "cell_type": "markdown",
   "id": "94c4ef39",
   "metadata": {},
   "source": [
    "## Multi-Threading concept "
   ]
  },
  {
   "cell_type": "markdown",
   "id": "5e72f891",
   "metadata": {},
   "source": [
    "Exploring the concept of Multi-Thread calculating square root and cube root using multi threading. \n",
    "This program demonstrates how to use multi-threading in Python to execute multiple tasks simultaneously, which can be useful for improving performance and efficiency in certain situations."
   ]
  },
  {
   "cell_type": "code",
   "execution_count": 34,
   "id": "087856fa",
   "metadata": {},
   "outputs": [],
   "source": [
    "import time \n",
    "import threading\n",
    "import matplotlib.pyplot as plt\n",
    "import numpy as np"
   ]
  },
  {
   "cell_type": "code",
   "execution_count": 35,
   "id": "61722440",
   "metadata": {},
   "outputs": [],
   "source": [
    "def calculateSquare(num):\n",
    "    print(\"calculate the square of the given numbers\")\n",
    "    for i in num:\n",
    "        time.sleep(0.2)\n",
    "        print(f\"square of {i} is : \".format(i),i*i)\n",
    "        \n",
    "def calculateCube(num):\n",
    "    print(\"calculate the cube of the given numbers\")\n",
    "    for i in num:\n",
    "        time.sleep(0.2)\n",
    "        print(f\"cube {i} is: \".format(i),i*i*i)\n",
    "        \n",
    "    "
   ]
  },
  {
   "cell_type": "code",
   "execution_count": 36,
   "id": "120b5fcc",
   "metadata": {},
   "outputs": [],
   "source": [
    "num= [5,1,6,2,8]\n"
   ]
  },
  {
   "cell_type": "code",
   "execution_count": 37,
   "id": "209766fc",
   "metadata": {},
   "outputs": [
    {
     "name": "stdout",
     "output_type": "stream",
     "text": [
      "calculate the cube of the given numbers\n",
      "cube 5 is:  125\n",
      "cube 1 is:  1\n",
      "cube 6 is:  216\n",
      "cube 2 is:  8\n",
      "cube 8 is:  512\n",
      " \n",
      "calculate the square of the given numbers\n",
      "square of 5 is :  25\n",
      "square of 1 is :  1\n",
      "square of 6 is :  36\n",
      "square of 2 is :  4\n",
      "square of 8 is :  64\n",
      " \n",
      "Completed without multithread in : 2.0068814754486084\n",
      " \n",
      "calculate the square of the given numbers\n",
      "calculate the cube of the given numbers\n",
      "square of 5 is :  25\n",
      "cube 5 is:  125\n",
      "square of 1 is :  1\n",
      "cube 1 is:  1\n",
      "cube 6 is:  216\n",
      "square of 6 is :  36\n",
      "cube 2 is:  8\n",
      "square of 2 is :  4\n",
      "cube 8 is:  512\n",
      "square of 8 is :  64\n",
      " \n",
      "Completed with multithread in : 1.0095744132995605\n"
     ]
    }
   ],
   "source": [
    "start_time = time.time()\n",
    "\n",
    "calculateCube(num)\n",
    "print(\" \")\n",
    "calculateSquare(num)\n",
    "print(\" \")\n",
    "Time_1 = time.time()-start_time\n",
    "print(\"Completed without multithread in :\",Time_1 )\n",
    "\n",
    "\n",
    "print(\" \")\n",
    "start_time_thread=time.time()\n",
    "\n",
    "Thread1 = threading.Thread(target=calculateSquare,args=(num,))\n",
    "Thread2 = threading.Thread(target=calculateCube,args=(num,))\n",
    "\n",
    "Thread1.start()\n",
    "Thread2.start()\n",
    "\n",
    "Thread1.join()\n",
    "Thread2.join()\n",
    "\n",
    "print(\" \")\n",
    "Time_2 =time.time()-start_time_thread\n",
    "print(\"Completed with multithread in :\",Time_2 )\n",
    "\n",
    "\n"
   ]
  },
  {
   "cell_type": "code",
   "execution_count": 38,
   "id": "e21407ca",
   "metadata": {},
   "outputs": [],
   "source": [
    "x= [\"Normal Execution\",\"Multi-Threading\"]\n",
    "y= [Time_1,Time_2]"
   ]
  },
  {
   "cell_type": "code",
   "execution_count": 39,
   "id": "4f4ca8dd",
   "metadata": {},
   "outputs": [
    {
     "data": {
      "image/png": "[encoded data removed]",
      "text/plain": [
       "<Figure size 640x480 with 1 Axes>"
      ]
     },
     "metadata": {},
     "output_type": "display_data"
    }
   ],
   "source": [
    "plt.barh(x,y,height = 0.6)\n",
    "plt.title(\"Multi-Thread Graph\")\n",
    "plt.xlabel = time\n",
    "\n",
    "plt.show()"
   ]
  }
 ],
 "metadata": {
  "kernelspec": {
   "display_name": "Python 3 (ipykernel)",
   "language": "python",
   "name": "python3"
  },
  "language_info": {
   "codemirror_mode": {
    "name": "ipython",
    "version": 3
   },
   "file_extension": ".py",
   "mimetype": "text/x-python",
   "name": "python",
   "nbconvert_exporter": "python",
   "pygments_lexer": "ipython3",
   "version": "3.10.6"
  }
 },
 "nbformat": 4,
 "nbformat_minor": 5
}
