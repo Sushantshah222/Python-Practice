{
 "cells": [
  {
   "cell_type": "markdown",
   "id": "94c4ef39",
   "metadata": {},
   "source": [
    "# Multi-Threading concept "
   ]
  },
  {
   "cell_type": "markdown",
   "id": "5e72f891",
   "metadata": {},
   "source": [
    "Program to calculate square root and cube root using multi threading "
   ]
  },
  {
   "cell_type": "code",
   "execution_count": 1,
   "id": "087856fa",
   "metadata": {},
   "outputs": [],
   "source": [
    "import time \n",
    "import threading"
   ]
  },
  {
   "cell_type": "code",
   "execution_count": 10,
   "id": "84bc67b7",
   "metadata": {},
   "outputs": [],
   "source": [
    "def calculateSquare(num):\n",
    "    print(\"calculate the square of the given numbers\")\n",
    "    for i in num:\n",
    "        time.sleep(0.2)\n",
    "        print(f\"square of {i} is : \".format(i),i*i)\n",
    "        \n",
    "def calculateCube(num):\n",
    "    print(\"calculate the cube of the given numbers\")\n",
    "    for i in num:\n",
    "        time.sleep(0.2)\n",
    "        print(f\"cube {i} is: \".format(i),i*i*i)\n",
    "        \n",
    "    "
   ]
  },
  {
   "cell_type": "code",
   "execution_count": 11,
   "id": "5da86a3b",
   "metadata": {},
   "outputs": [],
   "source": [
    "num= [5,1,6,2,8]\n"
   ]
  },
  {
   "cell_type": "code",
   "execution_count": 15,
   "id": "0931ba4c",
   "metadata": {},
   "outputs": [
    {
     "name": "stdout",
     "output_type": "stream",
     "text": [
      "calculate the cube of the given numbers\n",
      "cube 5 is:  125\n",
      "cube 1 is:  1\n",
      "cube 6 is:  216\n",
      "cube 2 is:  8\n",
      "cube 8 is:  512\n",
      " \n",
      "calculate the square of the given numbers\n",
      "square of 5 is :  25\n",
      "square of 1 is :  1\n",
      "square of 6 is :  36\n",
      "square of 2 is :  4\n",
      "square of 8 is :  64\n",
      " \n",
      "Completed without multithread in : 2.006542205810547\n",
      " \n",
      "calculate the square of the given numbers\n",
      "calculate the cube of the given numbers\n",
      "square of 5 is :  25\n",
      "cube 5 is:  125\n",
      "square of 1 is :  1\n",
      "cube 1 is:  1\n",
      "square of 6 is :  36\n",
      "cube 6 is:  216\n",
      "square of 2 is :  4\n",
      "cube 2 is:  8\n",
      "square of 8 is :  64\n",
      "cube 8 is:  512\n",
      " \n",
      "Completed with multithread in : 1.0089147090911865\n"
     ]
    }
   ],
   "source": [
    "start_time=time.time()\n",
    "\n",
    "calculateCube(num)\n",
    "print(\" \")\n",
    "calculateSquare(num)\n",
    "print(\" \")\n",
    "print(\"Completed without multithread in :\", time.time()-start_time)\n",
    "\n",
    "\n",
    "print(\" \")\n",
    "start_time_thread=time.time()\n",
    "\n",
    "Thread1 = threading.Thread(target=calculateSquare,args=(num,))\n",
    "Thread2 = threading.Thread(target=calculateCube,args=(num,))\n",
    "\n",
    "Thread1.start()\n",
    "Thread2.start()\n",
    "\n",
    "Thread1.join()\n",
    "Thread2.join()\n",
    "\n",
    "print(\" \")\n",
    "\n",
    "print(\"Completed with multithread in :\", time.time()-start_time_thread)\n",
    "\n",
    "\n"
   ]
  },
  {
   "cell_type": "code",
   "execution_count": null,
   "id": "2f894bad",
   "metadata": {},
   "outputs": [],
   "source": []
  }
 ],
 "metadata": {
  "kernelspec": {
   "display_name": "Python 3 (ipykernel)",
   "language": "python",
   "name": "python3"
  },
  "language_info": {
   "codemirror_mode": {
    "name": "ipython",
    "version": 3
   },
   "file_extension": ".py",
   "mimetype": "text/x-python",
   "name": "python",
   "nbconvert_exporter": "python",
   "pygments_lexer": "ipython3",
   "version": "3.10.6"
  }
 },
 "nbformat": 4,
 "nbformat_minor": 5
}
